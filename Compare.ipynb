{
 "cells": [
  {
   "cell_type": "code",
   "execution_count": 13,
   "metadata": {},
   "outputs": [],
   "source": [
    "import pandas as pd\n",
    "import numpy as np\n",
    "import matplotlib.pyplot as plt"
   ]
  },
  {
   "cell_type": "code",
   "execution_count": 14,
   "metadata": {},
   "outputs": [],
   "source": [
    "filename1 = 'C:/Users/yusri/Google Drive/DS1/Clustering/Clustering compare/EM.xlsx'\n",
    "df_EM = pd.read_excel(filename1,index_col=0)\n",
    "filename2 = 'C:/Users/yusri/Google Drive/DS1/Clustering/Clustering compare/HI.xlsx'\n",
    "df_HI = pd.read_excel(filename2,index_col=0)\n",
    "filename3 = 'C:/Users/yusri/Google Drive/DS1/Clustering/Clustering compare/KM.xlsx'\n",
    "df_KM = pd.read_excel(filename3,index_col=0)"
   ]
  },
  {
   "cell_type": "code",
   "execution_count": 15,
   "metadata": {},
   "outputs": [
    {
     "data": {
      "text/html": [
       "<div>\n",
       "<style scoped>\n",
       "    .dataframe tbody tr th:only-of-type {\n",
       "        vertical-align: middle;\n",
       "    }\n",
       "\n",
       "    .dataframe tbody tr th {\n",
       "        vertical-align: top;\n",
       "    }\n",
       "\n",
       "    .dataframe thead th {\n",
       "        text-align: right;\n",
       "    }\n",
       "</style>\n",
       "<table border=\"1\" class=\"dataframe\">\n",
       "  <thead>\n",
       "    <tr style=\"text-align: right;\">\n",
       "      <th></th>\n",
       "      <th>kappa</th>\n",
       "      <th>cluster_silhouette</th>\n",
       "      <th>human_silhouette</th>\n",
       "      <th>homogeneity</th>\n",
       "      <th>completeness</th>\n",
       "      <th>v_meas</th>\n",
       "      <th>ARI</th>\n",
       "      <th>AMI</th>\n",
       "    </tr>\n",
       "  </thead>\n",
       "  <tbody>\n",
       "    <tr>\n",
       "      <th>LDA</th>\n",
       "      <td>-0.384894</td>\n",
       "      <td>0.692035</td>\n",
       "      <td>-0.153249</td>\n",
       "      <td>0.259757</td>\n",
       "      <td>0.322028</td>\n",
       "      <td>0.28756</td>\n",
       "      <td>0.209046</td>\n",
       "      <td>0.283576</td>\n",
       "    </tr>\n",
       "    <tr>\n",
       "      <th>TF-iDF</th>\n",
       "      <td>-0.0528002</td>\n",
       "      <td>0.429862</td>\n",
       "      <td>0.341368</td>\n",
       "      <td>0.622194</td>\n",
       "      <td>0.637219</td>\n",
       "      <td>0.629617</td>\n",
       "      <td>0.540229</td>\n",
       "      <td>0.627732</td>\n",
       "    </tr>\n",
       "    <tr>\n",
       "      <th>BOW</th>\n",
       "      <td>0.0811579</td>\n",
       "      <td>0.426132</td>\n",
       "      <td>0.116768</td>\n",
       "      <td>0.450222</td>\n",
       "      <td>0.501495</td>\n",
       "      <td>0.474477</td>\n",
       "      <td>0.358688</td>\n",
       "      <td>0.471684</td>\n",
       "    </tr>\n",
       "    <tr>\n",
       "      <th>WE</th>\n",
       "      <td>--</td>\n",
       "      <td>0.594090</td>\n",
       "      <td>--</td>\n",
       "      <td>--</td>\n",
       "      <td>--</td>\n",
       "      <td>--</td>\n",
       "      <td>--</td>\n",
       "      <td>--</td>\n",
       "    </tr>\n",
       "  </tbody>\n",
       "</table>\n",
       "</div>"
      ],
      "text/plain": [
       "            kappa  cluster_silhouette human_silhouette homogeneity  \\\n",
       "LDA     -0.384894            0.692035        -0.153249    0.259757   \n",
       "TF-iDF -0.0528002            0.429862         0.341368    0.622194   \n",
       "BOW     0.0811579            0.426132         0.116768    0.450222   \n",
       "WE             --            0.594090               --          --   \n",
       "\n",
       "       completeness    v_meas       ARI       AMI  \n",
       "LDA        0.322028   0.28756  0.209046  0.283576  \n",
       "TF-iDF     0.637219  0.629617  0.540229  0.627732  \n",
       "BOW        0.501495  0.474477  0.358688  0.471684  \n",
       "WE               --        --        --        --  "
      ]
     },
     "execution_count": 15,
     "metadata": {},
     "output_type": "execute_result"
    }
   ],
   "source": [
    "df_HI"
   ]
  },
  {
   "cell_type": "code",
   "execution_count": 16,
   "metadata": {},
   "outputs": [
    {
     "data": {
      "text/html": [
       "<div>\n",
       "<style scoped>\n",
       "    .dataframe tbody tr th:only-of-type {\n",
       "        vertical-align: middle;\n",
       "    }\n",
       "\n",
       "    .dataframe tbody tr th {\n",
       "        vertical-align: top;\n",
       "    }\n",
       "\n",
       "    .dataframe thead th {\n",
       "        text-align: right;\n",
       "    }\n",
       "</style>\n",
       "<table border=\"1\" class=\"dataframe\">\n",
       "  <thead>\n",
       "    <tr style=\"text-align: right;\">\n",
       "      <th></th>\n",
       "      <th>kappa</th>\n",
       "      <th>cluster_silhouette</th>\n",
       "      <th>human_silhouette</th>\n",
       "      <th>homogeneity</th>\n",
       "      <th>completeness</th>\n",
       "      <th>v_meas</th>\n",
       "      <th>ARI</th>\n",
       "      <th>AMI</th>\n",
       "    </tr>\n",
       "  </thead>\n",
       "  <tbody>\n",
       "    <tr>\n",
       "      <th>TF-iDF</th>\n",
       "      <td>-0.262431</td>\n",
       "      <td>0.470119</td>\n",
       "      <td>0.305854</td>\n",
       "      <td>0.665675</td>\n",
       "      <td>0.686831</td>\n",
       "      <td>0.676088</td>\n",
       "      <td>0.612186</td>\n",
       "      <td>0.674433</td>\n",
       "    </tr>\n",
       "    <tr>\n",
       "      <th>BOW</th>\n",
       "      <td>-0.315309</td>\n",
       "      <td>0.375084</td>\n",
       "      <td>0.116716</td>\n",
       "      <td>0.395731</td>\n",
       "      <td>0.430193</td>\n",
       "      <td>0.412243</td>\n",
       "      <td>0.303382</td>\n",
       "      <td>0.409157</td>\n",
       "    </tr>\n",
       "    <tr>\n",
       "      <th>LDA</th>\n",
       "      <td>0.294998</td>\n",
       "      <td>0.493751</td>\n",
       "      <td>-0.153249</td>\n",
       "      <td>0.279566</td>\n",
       "      <td>0.356818</td>\n",
       "      <td>0.313503</td>\n",
       "      <td>0.225429</td>\n",
       "      <td>0.309599</td>\n",
       "    </tr>\n",
       "    <tr>\n",
       "      <th>WE</th>\n",
       "      <td>--</td>\n",
       "      <td>0.361795</td>\n",
       "      <td>--</td>\n",
       "      <td>--</td>\n",
       "      <td>--</td>\n",
       "      <td>--</td>\n",
       "      <td>--</td>\n",
       "      <td>--</td>\n",
       "    </tr>\n",
       "  </tbody>\n",
       "</table>\n",
       "</div>"
      ],
      "text/plain": [
       "           kappa  cluster_silhouette human_silhouette homogeneity  \\\n",
       "TF-iDF -0.262431            0.470119         0.305854    0.665675   \n",
       "BOW    -0.315309            0.375084         0.116716    0.395731   \n",
       "LDA     0.294998            0.493751        -0.153249    0.279566   \n",
       "WE            --            0.361795               --          --   \n",
       "\n",
       "       completeness    v_meas       ARI       AMI  \n",
       "TF-iDF     0.686831  0.676088  0.612186  0.674433  \n",
       "BOW        0.430193  0.412243  0.303382  0.409157  \n",
       "LDA        0.356818  0.313503  0.225429  0.309599  \n",
       "WE               --        --        --        --  "
      ]
     },
     "execution_count": 16,
     "metadata": {},
     "output_type": "execute_result"
    }
   ],
   "source": [
    "df_EM"
   ]
  },
  {
   "cell_type": "code",
   "execution_count": null,
   "metadata": {},
   "outputs": [],
   "source": []
  },
  {
   "cell_type": "code",
   "execution_count": 17,
   "metadata": {},
   "outputs": [
    {
     "data": {
      "text/html": [
       "<div>\n",
       "<style scoped>\n",
       "    .dataframe tbody tr th:only-of-type {\n",
       "        vertical-align: middle;\n",
       "    }\n",
       "\n",
       "    .dataframe tbody tr th {\n",
       "        vertical-align: top;\n",
       "    }\n",
       "\n",
       "    .dataframe thead th {\n",
       "        text-align: right;\n",
       "    }\n",
       "</style>\n",
       "<table border=\"1\" class=\"dataframe\">\n",
       "  <thead>\n",
       "    <tr style=\"text-align: right;\">\n",
       "      <th></th>\n",
       "      <th>HI</th>\n",
       "      <th>KM</th>\n",
       "      <th>EM</th>\n",
       "    </tr>\n",
       "  </thead>\n",
       "  <tbody>\n",
       "    <tr>\n",
       "      <th>BOW</th>\n",
       "      <td>0.0811579</td>\n",
       "      <td>-0.320021</td>\n",
       "      <td>-0.315309</td>\n",
       "    </tr>\n",
       "    <tr>\n",
       "      <th>LDA</th>\n",
       "      <td>-0.384894</td>\n",
       "      <td>-0.00374614</td>\n",
       "      <td>0.294998</td>\n",
       "    </tr>\n",
       "    <tr>\n",
       "      <th>TF-iDF</th>\n",
       "      <td>-0.0528002</td>\n",
       "      <td>-0.374592</td>\n",
       "      <td>-0.262431</td>\n",
       "    </tr>\n",
       "  </tbody>\n",
       "</table>\n",
       "</div>"
      ],
      "text/plain": [
       "               HI          KM        EM\n",
       "BOW     0.0811579   -0.320021 -0.315309\n",
       "LDA     -0.384894 -0.00374614  0.294998\n",
       "TF-iDF -0.0528002   -0.374592 -0.262431"
      ]
     },
     "execution_count": 17,
     "metadata": {},
     "output_type": "execute_result"
    }
   ],
   "source": [
    "cluster_kappa={'HI':df_HI['kappa'][:3],'KM':df_KM['kappa'][:3],'EM':df_EM['kappa'][:3]}\n",
    "kappa_df=pd.DataFrame(cluster_kappa)\n",
    "kappa_df"
   ]
  },
  {
   "cell_type": "code",
   "execution_count": 18,
   "metadata": {},
   "outputs": [
    {
     "data": {
      "text/html": [
       "<div>\n",
       "<style scoped>\n",
       "    .dataframe tbody tr th:only-of-type {\n",
       "        vertical-align: middle;\n",
       "    }\n",
       "\n",
       "    .dataframe tbody tr th {\n",
       "        vertical-align: top;\n",
       "    }\n",
       "\n",
       "    .dataframe thead th {\n",
       "        text-align: right;\n",
       "    }\n",
       "</style>\n",
       "<table border=\"1\" class=\"dataframe\">\n",
       "  <thead>\n",
       "    <tr style=\"text-align: right;\">\n",
       "      <th></th>\n",
       "      <th>HI</th>\n",
       "      <th>KM</th>\n",
       "      <th>EM</th>\n",
       "    </tr>\n",
       "  </thead>\n",
       "  <tbody>\n",
       "    <tr>\n",
       "      <th>BOW</th>\n",
       "      <td>0.426132</td>\n",
       "      <td>0.435738</td>\n",
       "      <td>0.375084</td>\n",
       "    </tr>\n",
       "    <tr>\n",
       "      <th>LDA</th>\n",
       "      <td>0.692035</td>\n",
       "      <td>0.574544</td>\n",
       "      <td>0.493751</td>\n",
       "    </tr>\n",
       "    <tr>\n",
       "      <th>TF-iDF</th>\n",
       "      <td>0.429862</td>\n",
       "      <td>0.478038</td>\n",
       "      <td>0.470119</td>\n",
       "    </tr>\n",
       "    <tr>\n",
       "      <th>WE</th>\n",
       "      <td>0.594090</td>\n",
       "      <td>0.605177</td>\n",
       "      <td>0.361795</td>\n",
       "    </tr>\n",
       "  </tbody>\n",
       "</table>\n",
       "</div>"
      ],
      "text/plain": [
       "              HI        KM        EM\n",
       "BOW     0.426132  0.435738  0.375084\n",
       "LDA     0.692035  0.574544  0.493751\n",
       "TF-iDF  0.429862  0.478038  0.470119\n",
       "WE      0.594090  0.605177  0.361795"
      ]
     },
     "execution_count": 18,
     "metadata": {},
     "output_type": "execute_result"
    }
   ],
   "source": [
    "cluster_silhouette={'HI':df_HI['cluster_silhouette'],'KM':df_KM['cluster_silhouette'],'EM':df_EM['cluster_silhouette']}\n",
    "silhouette_df=pd.DataFrame(cluster_silhouette)\n",
    "silhouette_df"
   ]
  },
  {
   "cell_type": "code",
   "execution_count": 19,
   "metadata": {},
   "outputs": [
    {
     "data": {
      "image/png": "[encoded data removed]",
      "text/plain": [
       "<Figure size 1008x576 with 1 Axes>"
      ]
     },
     "metadata": {
      "needs_background": "light"
     },
     "output_type": "display_data"
    }
   ],
   "source": [
    "\n",
    "import matplotlib.pyplot as plt\n",
    "plt.rcParams.update({'font.size': 15})\n",
    "ax = silhouette_df.plot.bar(fontsize=18, xlabel='Transformation Models',\n",
    "                            ylabel='Silhouette Scores', width=0.8,rot=0,\n",
    "                            figsize=(14,8),title=\"Silhouette Score for Clustring Models\",alpha=1,\n",
    "                            edgecolor='white', linewidth=2)\n",
    "plt.tight_layout()\n",
    "plt.show(block=True)\n",
    "import pylab as plot\n",
    "params = {'legend.fontsize': 18,\n",
    "          'legend.handlelength': 4}     \n",
    "plot.rcParams.update(params)"
   ]
  },
  {
   "cell_type": "code",
   "execution_count": 20,
   "metadata": {},
   "outputs": [
    {
     "data": {
      "image/png": "[encoded data removed]",
      "text/plain": [
       "<Figure size 1008x576 with 1 Axes>"
      ]
     },
     "metadata": {
      "needs_background": "light"
     },
     "output_type": "display_data"
    }
   ],
   "source": [
    "\n",
    "import matplotlib.pyplot as plt\n",
    "plt.rcParams.update({'font.size': 15})\n",
    "ax = kappa_df.plot.bar(fontsize=18, xlabel='Transformation Models',\n",
    "                            ylabel='Kappa Scores', width=0.8,rot=0,\n",
    "                            figsize=(14,8),title=\"Kappa Score for Clustring Models\",alpha=1,\n",
    "                            edgecolor='white', linewidth=2)\n",
    "plt.tight_layout()\n",
    "plt.show(block=True)\n",
    "import pylab as plot\n",
    "params = {'legend.fontsize': 18,\n",
    "          'legend.handlelength': 4} \n",
    "plot.rcParams.update(params)"
   ]
  },
  {
   "cell_type": "code",
   "execution_count": 21,
   "metadata": {},
   "outputs": [
    {
     "data": {
      "text/html": [
       "<div>\n",
       "<style scoped>\n",
       "    .dataframe tbody tr th:only-of-type {\n",
       "        vertical-align: middle;\n",
       "    }\n",
       "\n",
       "    .dataframe tbody tr th {\n",
       "        vertical-align: top;\n",
       "    }\n",
       "\n",
       "    .dataframe thead th {\n",
       "        text-align: right;\n",
       "    }\n",
       "</style>\n",
       "<table border=\"1\" class=\"dataframe\">\n",
       "  <thead>\n",
       "    <tr style=\"text-align: right;\">\n",
       "      <th></th>\n",
       "      <th>HI</th>\n",
       "      <th>KM</th>\n",
       "      <th>EM</th>\n",
       "    </tr>\n",
       "  </thead>\n",
       "  <tbody>\n",
       "    <tr>\n",
       "      <th>WE</th>\n",
       "      <td>0.59409</td>\n",
       "      <td>0.605177</td>\n",
       "      <td>0.361795</td>\n",
       "    </tr>\n",
       "  </tbody>\n",
       "</table>\n",
       "</div>"
      ],
      "text/plain": [
       "         HI        KM        EM\n",
       "WE  0.59409  0.605177  0.361795"
      ]
     },
     "execution_count": 21,
     "metadata": {},
     "output_type": "execute_result"
    }
   ],
   "source": [
    "silhouette_df.iloc[-1:]"
   ]
  },
  {
   "cell_type": "code",
   "execution_count": null,
   "metadata": {},
   "outputs": [],
   "source": []
  },
  {
   "cell_type": "code",
   "execution_count": 22,
   "metadata": {},
   "outputs": [
    {
     "data": {
      "image/png": "[encoded data removed]",
      "text/plain": [
       "<Figure size 576x288 with 1 Axes>"
      ]
     },
     "metadata": {
      "needs_background": "light"
     },
     "output_type": "display_data"
    }
   ],
   "source": [
    "import matplotlib.pyplot as plt\n",
    "plt.rcParams.update({'font.size': 15})\n",
    "ax = silhouette_df[-1:].plot.bar(fontsize=13,\n",
    "                            ylabel='Silhouette Scores', width=0.3,rot=0,\n",
    "                            figsize=(8,4),title=\"Silhouette Score for Clustring Models\",alpha=1,\n",
    "                            edgecolor='white', linewidth=2)\n",
    "plt.tight_layout()\n",
    "plt.show(block=True)\n",
    "import pylab as plot\n",
    "params = {'legend.fontsize': 15,\n",
    "          'legend.handlelength': 4}     \n",
    "plot.rcParams.update(params)"
   ]
  },
  {
   "cell_type": "code",
   "execution_count": null,
   "metadata": {},
   "outputs": [],
   "source": []
  },
  {
   "cell_type": "code",
   "execution_count": null,
   "metadata": {},
   "outputs": [],
   "source": []
  },
  {
   "cell_type": "code",
   "execution_count": null,
   "metadata": {},
   "outputs": [],
   "source": []
  },
  {
   "cell_type": "code",
   "execution_count": null,
   "metadata": {},
   "outputs": [],
   "source": []
  }
 ],
 "metadata": {
  "kernelspec": {
   "display_name": "Python 3",
   "language": "python",
   "name": "python3"
  },
  "language_info": {
   "codemirror_mode": {
    "name": "ipython",
    "version": 3
   },
   "file_extension": ".py",
   "mimetype": "text/x-python",
   "name": "python",
   "nbconvert_exporter": "python",
   "pygments_lexer": "ipython3",
   "version": "3.8.5"
  }
 },
 "nbformat": 4,
 "nbformat_minor": 4
}
